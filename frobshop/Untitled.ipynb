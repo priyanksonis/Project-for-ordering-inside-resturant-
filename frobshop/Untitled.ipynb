{
 "cells": [
  {
   "cell_type": "code",
   "execution_count": null,
   "metadata": {
    "collapsed": true
   },
   "outputs": [],
   "source": [
    "from oscar.apps.promotions.views import HomeView as CoreHomeView\n",
    "from ..catalogue.views import CatalogueView as CoreCatalogueView\n",
    "\n",
    "\n",
    "#from oscar.app.\n",
    "from django.contrib.auth.models import User\n",
    "\n",
    "\n",
    "\n",
    "\n",
    "#we are overriding  so that on home page we can show all the products\n",
    "class HomeView(CoreCatalogueView):\n",
    "    #template_name='catalogue/browse_new.html'\n",
    "    print(\"hi\")\n",
    "    qs=User.objects.all()\n",
    "    for i in qs:\n",
    "        print(i.first_name)\n",
    "    print(qs)\n",
    "\n",
    "    def my_view(request):\n",
    "        username = None\n",
    "        if request.user.is_authenticated:\n",
    "            username = request.user.username\n",
    "    x=2\n",
    "    #import pdb\n",
    "    #pdb.set_trace()"
   ]
  }
 ],
 "metadata": {
  "kernelspec": {
   "display_name": "Python 3",
   "language": "python",
   "name": "python3"
  },
  "language_info": {
   "codemirror_mode": {
    "name": "ipython",
    "version": 3
   },
   "file_extension": ".py",
   "mimetype": "text/x-python",
   "name": "python",
   "nbconvert_exporter": "python",
   "pygments_lexer": "ipython3",
   "version": "3.6.3"
  }
 },
 "nbformat": 4,
 "nbformat_minor": 2
}
